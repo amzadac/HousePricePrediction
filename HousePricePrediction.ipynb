{
 "cells": [
  {
   "cell_type": "code",
   "execution_count": 6,
   "id": "10afcfca",
   "metadata": {},
   "outputs": [],
   "source": [
    "import pandas as pd\n",
    "import numpy as np\n",
    "import seaborn as sns\n",
    "from sklearn.model_selection import train_test_split\n",
    "from sklearn.linear_model import LinearRegression\n",
    "from sklearn.metrics import r2_score\n",
    "import matplotlib.pyplot as plt\n",
    "%matplotlib inline\n",
    "import seaborn as sns\n",
    "import warnings\n",
    "warnings.filterwarnings('ignore')"
   ]
  },
  {
   "cell_type": "markdown",
   "id": "c59b959b",
   "metadata": {},
   "source": [
    "# Importing the dataset :"
   ]
  },
  {
   "cell_type": "code",
   "execution_count": 8,
   "id": "94ac3002",
   "metadata": {},
   "outputs": [],
   "source": [
    "HouseDF = pd.read_csv('minihomeprices.csv')"
   ]
  },
  {
   "cell_type": "code",
   "execution_count": 9,
   "id": "ef897811",
   "metadata": {},
   "outputs": [
    {
     "data": {
      "text/html": [
       "<div>\n",
       "<style scoped>\n",
       "    .dataframe tbody tr th:only-of-type {\n",
       "        vertical-align: middle;\n",
       "    }\n",
       "\n",
       "    .dataframe tbody tr th {\n",
       "        vertical-align: top;\n",
       "    }\n",
       "\n",
       "    .dataframe thead th {\n",
       "        text-align: right;\n",
       "    }\n",
       "</style>\n",
       "<table border=\"1\" class=\"dataframe\">\n",
       "  <thead>\n",
       "    <tr style=\"text-align: right;\">\n",
       "      <th></th>\n",
       "      <th>area</th>\n",
       "      <th>bedrooms</th>\n",
       "      <th>age</th>\n",
       "      <th>price</th>\n",
       "    </tr>\n",
       "  </thead>\n",
       "  <tbody>\n",
       "    <tr>\n",
       "      <th>0</th>\n",
       "      <td>2600</td>\n",
       "      <td>3.0</td>\n",
       "      <td>20</td>\n",
       "      <td>550000</td>\n",
       "    </tr>\n",
       "    <tr>\n",
       "      <th>1</th>\n",
       "      <td>3000</td>\n",
       "      <td>4.0</td>\n",
       "      <td>15</td>\n",
       "      <td>565000</td>\n",
       "    </tr>\n",
       "    <tr>\n",
       "      <th>2</th>\n",
       "      <td>3200</td>\n",
       "      <td>NaN</td>\n",
       "      <td>18</td>\n",
       "      <td>610000</td>\n",
       "    </tr>\n",
       "    <tr>\n",
       "      <th>3</th>\n",
       "      <td>3600</td>\n",
       "      <td>3.0</td>\n",
       "      <td>30</td>\n",
       "      <td>595000</td>\n",
       "    </tr>\n",
       "    <tr>\n",
       "      <th>4</th>\n",
       "      <td>4000</td>\n",
       "      <td>5.0</td>\n",
       "      <td>8</td>\n",
       "      <td>760000</td>\n",
       "    </tr>\n",
       "  </tbody>\n",
       "</table>\n",
       "</div>"
      ],
      "text/plain": [
       "   area  bedrooms  age   price\n",
       "0  2600       3.0   20  550000\n",
       "1  3000       4.0   15  565000\n",
       "2  3200       NaN   18  610000\n",
       "3  3600       3.0   30  595000\n",
       "4  4000       5.0    8  760000"
      ]
     },
     "execution_count": 9,
     "metadata": {},
     "output_type": "execute_result"
    }
   ],
   "source": [
    "HouseDF.head()"
   ]
  },
  {
   "cell_type": "code",
   "execution_count": 13,
   "id": "f55e3420",
   "metadata": {},
   "outputs": [
    {
     "data": {
      "text/plain": [
       "Index(['area', 'bedrooms', 'age', 'price'], dtype='object')"
      ]
     },
     "execution_count": 13,
     "metadata": {},
     "output_type": "execute_result"
    }
   ],
   "source": [
    "\n",
    "# COLUMNS :\n",
    "\n",
    "HouseDF.columns"
   ]
  },
  {
   "cell_type": "code",
   "execution_count": 10,
   "id": "42d49af1",
   "metadata": {},
   "outputs": [
    {
     "name": "stdout",
     "output_type": "stream",
     "text": [
      "<class 'pandas.core.frame.DataFrame'>\n",
      "RangeIndex: 6 entries, 0 to 5\n",
      "Data columns (total 4 columns):\n",
      " #   Column    Non-Null Count  Dtype  \n",
      "---  ------    --------------  -----  \n",
      " 0   area      6 non-null      int64  \n",
      " 1   bedrooms  5 non-null      float64\n",
      " 2   age       6 non-null      int64  \n",
      " 3   price     6 non-null      int64  \n",
      "dtypes: float64(1), int64(3)\n",
      "memory usage: 324.0 bytes\n"
     ]
    }
   ],
   "source": [
    "HouseDF.info()"
   ]
  },
  {
   "cell_type": "markdown",
   "id": "39f4fbad",
   "metadata": {},
   "source": [
    "# Data Preprocessing :"
   ]
  },
  {
   "cell_type": "code",
   "execution_count": 17,
   "id": "d61e6518",
   "metadata": {},
   "outputs": [
    {
     "data": {
      "text/plain": [
       "area        0\n",
       "bedrooms    0\n",
       "age         0\n",
       "price       0\n",
       "dtype: int64"
      ]
     },
     "execution_count": 17,
     "metadata": {},
     "output_type": "execute_result"
    }
   ],
   "source": [
    "HouseDF.isnull().sum()"
   ]
  },
  {
   "cell_type": "code",
   "execution_count": 20,
   "id": "12981e63",
   "metadata": {},
   "outputs": [
    {
     "name": "stdout",
     "output_type": "stream",
     "text": [
      "\n",
      "\u001b[1mInference:\u001b[0m The dataset doesn't have any duplicates\n"
     ]
    }
   ],
   "source": [
    "counter = 0\n",
    "rs,cs = HouseDF.shape\n",
    "\n",
    "HouseDF.drop_duplicates(inplace=True)\n",
    "\n",
    "if HouseDF.shape==(rs,cs):\n",
    "    print('\\n\\033[1mInference:\\033[0m The dataset doesn\\'t have any duplicates')\n",
    "else:\n",
    "    print(f'\\n\\033[1mInference:\\033[0m Number of duplicates dropped/fixed ---> {rs-HouseDF.shape[0]}')"
   ]
  },
  {
   "cell_type": "code",
   "execution_count": 14,
   "id": "2ebead13",
   "metadata": {},
   "outputs": [
    {
     "data": {
      "text/html": [
       "<style type=\"text/css\">\n",
       "#T_99329_row0_col0, #T_99329_row0_col2, #T_99329_row0_col3, #T_99329_row2_col1 {\n",
       "  background-color: #000000;\n",
       "  color: #f1f1f1;\n",
       "}\n",
       "#T_99329_row0_col1, #T_99329_row6_col1 {\n",
       "  background-color: #e6cb39;\n",
       "  color: #000000;\n",
       "}\n",
       "#T_99329_row1_col0 {\n",
       "  background-color: #e6d95f;\n",
       "  color: #000000;\n",
       "}\n",
       "#T_99329_row1_col1 {\n",
       "  background-color: #e77b03;\n",
       "  color: #f1f1f1;\n",
       "}\n",
       "#T_99329_row1_col2, #T_99329_row5_col2 {\n",
       "  background-color: #cd3a52;\n",
       "  color: #f1f1f1;\n",
       "}\n",
       "#T_99329_row1_col3 {\n",
       "  background-color: #e6cf42;\n",
       "  color: #000000;\n",
       "}\n",
       "#T_99329_row2_col0 {\n",
       "  background-color: #2b2688;\n",
       "  color: #f1f1f1;\n",
       "}\n",
       "#T_99329_row2_col2 {\n",
       "  background-color: #1d1d60;\n",
       "  color: #f1f1f1;\n",
       "}\n",
       "#T_99329_row2_col3 {\n",
       "  background-color: #292684;\n",
       "  color: #f1f1f1;\n",
       "}\n",
       "#T_99329_row3_col0 {\n",
       "  background-color: #e68502;\n",
       "  color: #f1f1f1;\n",
       "}\n",
       "#T_99329_row3_col1, #T_99329_row4_col1 {\n",
       "  background-color: #903287;\n",
       "  color: #f1f1f1;\n",
       "}\n",
       "#T_99329_row3_col2 {\n",
       "  background-color: #191954;\n",
       "  color: #f1f1f1;\n",
       "}\n",
       "#T_99329_row3_col3 {\n",
       "  background-color: #e69b0b;\n",
       "  color: #f1f1f1;\n",
       "}\n",
       "#T_99329_row4_col0, #T_99329_row5_col3 {\n",
       "  background-color: #e6bd18;\n",
       "  color: #000000;\n",
       "}\n",
       "#T_99329_row4_col2 {\n",
       "  background-color: #302690;\n",
       "  color: #f1f1f1;\n",
       "}\n",
       "#T_99329_row4_col3 {\n",
       "  background-color: #e6a910;\n",
       "  color: #000000;\n",
       "}\n",
       "#T_99329_row5_col0 {\n",
       "  background-color: #e6d85c;\n",
       "  color: #000000;\n",
       "}\n",
       "#T_99329_row5_col1 {\n",
       "  background-color: #f06510;\n",
       "  color: #f1f1f1;\n",
       "}\n",
       "#T_99329_row6_col0 {\n",
       "  background-color: #f5f5cf;\n",
       "  color: #000000;\n",
       "}\n",
       "#T_99329_row6_col2 {\n",
       "  background-color: #f26112;\n",
       "  color: #f1f1f1;\n",
       "}\n",
       "#T_99329_row6_col3 {\n",
       "  background-color: #e9e993;\n",
       "  color: #000000;\n",
       "}\n",
       "#T_99329_row7_col0, #T_99329_row7_col1, #T_99329_row7_col2, #T_99329_row7_col3 {\n",
       "  background-color: #ffffff;\n",
       "  color: #000000;\n",
       "}\n",
       "</style>\n",
       "<table id=\"T_99329\">\n",
       "  <thead>\n",
       "    <tr>\n",
       "      <th class=\"blank level0\" >&nbsp;</th>\n",
       "      <th id=\"T_99329_level0_col0\" class=\"col_heading level0 col0\" >area</th>\n",
       "      <th id=\"T_99329_level0_col1\" class=\"col_heading level0 col1\" >bedrooms</th>\n",
       "      <th id=\"T_99329_level0_col2\" class=\"col_heading level0 col2\" >age</th>\n",
       "      <th id=\"T_99329_level0_col3\" class=\"col_heading level0 col3\" >price</th>\n",
       "    </tr>\n",
       "  </thead>\n",
       "  <tbody>\n",
       "    <tr>\n",
       "      <th id=\"T_99329_level0_row0\" class=\"row_heading level0 row0\" >count</th>\n",
       "      <td id=\"T_99329_row0_col0\" class=\"data row0 col0\" >6.000000</td>\n",
       "      <td id=\"T_99329_row0_col1\" class=\"data row0 col1\" >5.000000</td>\n",
       "      <td id=\"T_99329_row0_col2\" class=\"data row0 col2\" >6.000000</td>\n",
       "      <td id=\"T_99329_row0_col3\" class=\"data row0 col3\" >6.000000</td>\n",
       "    </tr>\n",
       "    <tr>\n",
       "      <th id=\"T_99329_level0_row1\" class=\"row_heading level0 row1\" >mean</th>\n",
       "      <td id=\"T_99329_row1_col0\" class=\"data row1 col0\" >3416.666667</td>\n",
       "      <td id=\"T_99329_row1_col1\" class=\"data row1 col1\" >4.200000</td>\n",
       "      <td id=\"T_99329_row1_col2\" class=\"data row1 col2\" >16.500000</td>\n",
       "      <td id=\"T_99329_row1_col3\" class=\"data row1 col3\" >648333.333333</td>\n",
       "    </tr>\n",
       "    <tr>\n",
       "      <th id=\"T_99329_level0_row2\" class=\"row_heading level0 row2\" >std</th>\n",
       "      <td id=\"T_99329_row2_col0\" class=\"data row2 col0\" >587.934237</td>\n",
       "      <td id=\"T_99329_row2_col1\" class=\"data row2 col1\" >1.303840</td>\n",
       "      <td id=\"T_99329_row2_col2\" class=\"data row2 col2\" >8.288546</td>\n",
       "      <td id=\"T_99329_row2_col3\" class=\"data row2 col3\" >109117.673484</td>\n",
       "    </tr>\n",
       "    <tr>\n",
       "      <th id=\"T_99329_level0_row3\" class=\"row_heading level0 row3\" >min</th>\n",
       "      <td id=\"T_99329_row3_col0\" class=\"data row3 col0\" >2600.000000</td>\n",
       "      <td id=\"T_99329_row3_col1\" class=\"data row3 col1\" >3.000000</td>\n",
       "      <td id=\"T_99329_row3_col2\" class=\"data row3 col2\" >8.000000</td>\n",
       "      <td id=\"T_99329_row3_col3\" class=\"data row3 col3\" >550000.000000</td>\n",
       "    </tr>\n",
       "    <tr>\n",
       "      <th id=\"T_99329_level0_row4\" class=\"row_heading level0 row4\" >25%</th>\n",
       "      <td id=\"T_99329_row4_col0\" class=\"data row4 col0\" >3050.000000</td>\n",
       "      <td id=\"T_99329_row4_col1\" class=\"data row4 col1\" >3.000000</td>\n",
       "      <td id=\"T_99329_row4_col2\" class=\"data row4 col2\" >9.750000</td>\n",
       "      <td id=\"T_99329_row4_col3\" class=\"data row4 col3\" >572500.000000</td>\n",
       "    </tr>\n",
       "    <tr>\n",
       "      <th id=\"T_99329_level0_row5\" class=\"row_heading level0 row5\" >50%</th>\n",
       "      <td id=\"T_99329_row5_col0\" class=\"data row5 col0\" >3400.000000</td>\n",
       "      <td id=\"T_99329_row5_col1\" class=\"data row5 col1\" >4.000000</td>\n",
       "      <td id=\"T_99329_row5_col2\" class=\"data row5 col2\" >16.500000</td>\n",
       "      <td id=\"T_99329_row5_col3\" class=\"data row5 col3\" >602500.000000</td>\n",
       "    </tr>\n",
       "    <tr>\n",
       "      <th id=\"T_99329_level0_row6\" class=\"row_heading level0 row6\" >75%</th>\n",
       "      <td id=\"T_99329_row6_col0\" class=\"data row6 col0\" >3900.000000</td>\n",
       "      <td id=\"T_99329_row6_col1\" class=\"data row6 col1\" >5.000000</td>\n",
       "      <td id=\"T_99329_row6_col2\" class=\"data row6 col2\" >19.500000</td>\n",
       "      <td id=\"T_99329_row6_col3\" class=\"data row6 col3\" >722500.000000</td>\n",
       "    </tr>\n",
       "    <tr>\n",
       "      <th id=\"T_99329_level0_row7\" class=\"row_heading level0 row7\" >max</th>\n",
       "      <td id=\"T_99329_row7_col0\" class=\"data row7 col0\" >4100.000000</td>\n",
       "      <td id=\"T_99329_row7_col1\" class=\"data row7 col1\" >6.000000</td>\n",
       "      <td id=\"T_99329_row7_col2\" class=\"data row7 col2\" >30.000000</td>\n",
       "      <td id=\"T_99329_row7_col3\" class=\"data row7 col3\" >810000.000000</td>\n",
       "    </tr>\n",
       "  </tbody>\n",
       "</table>\n"
      ],
      "text/plain": [
       "<pandas.io.formats.style.Styler at 0x26efa7ab9d0>"
      ]
     },
     "execution_count": 14,
     "metadata": {},
     "output_type": "execute_result"
    }
   ],
   "source": [
    "HouseDF.describe().style.background_gradient(cmap='CMRmap')"
   ]
  },
  {
   "cell_type": "code",
   "execution_count": null,
   "id": "099e9667",
   "metadata": {},
   "outputs": [],
   "source": []
  },
  {
   "cell_type": "code",
   "execution_count": 15,
   "id": "eee0bba4",
   "metadata": {},
   "outputs": [
    {
     "data": {
      "text/plain": [
       "area        0\n",
       "bedrooms    1\n",
       "age         0\n",
       "price       0\n",
       "dtype: int64"
      ]
     },
     "execution_count": 15,
     "metadata": {},
     "output_type": "execute_result"
    }
   ],
   "source": [
    "\n",
    "HouseDF.isna().sum()"
   ]
  },
  {
   "cell_type": "code",
   "execution_count": 16,
   "id": "8e74660a",
   "metadata": {},
   "outputs": [
    {
     "data": {
      "text/html": [
       "<div>\n",
       "<style scoped>\n",
       "    .dataframe tbody tr th:only-of-type {\n",
       "        vertical-align: middle;\n",
       "    }\n",
       "\n",
       "    .dataframe tbody tr th {\n",
       "        vertical-align: top;\n",
       "    }\n",
       "\n",
       "    .dataframe thead th {\n",
       "        text-align: right;\n",
       "    }\n",
       "</style>\n",
       "<table border=\"1\" class=\"dataframe\">\n",
       "  <thead>\n",
       "    <tr style=\"text-align: right;\">\n",
       "      <th></th>\n",
       "      <th>area</th>\n",
       "      <th>bedrooms</th>\n",
       "      <th>age</th>\n",
       "      <th>price</th>\n",
       "    </tr>\n",
       "  </thead>\n",
       "  <tbody>\n",
       "    <tr>\n",
       "      <th>0</th>\n",
       "      <td>2600</td>\n",
       "      <td>3.0</td>\n",
       "      <td>20</td>\n",
       "      <td>550000</td>\n",
       "    </tr>\n",
       "    <tr>\n",
       "      <th>1</th>\n",
       "      <td>3000</td>\n",
       "      <td>4.0</td>\n",
       "      <td>15</td>\n",
       "      <td>565000</td>\n",
       "    </tr>\n",
       "    <tr>\n",
       "      <th>2</th>\n",
       "      <td>3200</td>\n",
       "      <td>4.2</td>\n",
       "      <td>18</td>\n",
       "      <td>610000</td>\n",
       "    </tr>\n",
       "    <tr>\n",
       "      <th>3</th>\n",
       "      <td>3600</td>\n",
       "      <td>3.0</td>\n",
       "      <td>30</td>\n",
       "      <td>595000</td>\n",
       "    </tr>\n",
       "    <tr>\n",
       "      <th>4</th>\n",
       "      <td>4000</td>\n",
       "      <td>5.0</td>\n",
       "      <td>8</td>\n",
       "      <td>760000</td>\n",
       "    </tr>\n",
       "  </tbody>\n",
       "</table>\n",
       "</div>"
      ],
      "text/plain": [
       "   area  bedrooms  age   price\n",
       "0  2600       3.0   20  550000\n",
       "1  3000       4.0   15  565000\n",
       "2  3200       4.2   18  610000\n",
       "3  3600       3.0   30  595000\n",
       "4  4000       5.0    8  760000"
      ]
     },
     "execution_count": 16,
     "metadata": {},
     "output_type": "execute_result"
    }
   ],
   "source": [
    "HouseDF['bedrooms'] = HouseDF['bedrooms'].fillna( HouseDF['bedrooms'].mean() )\n",
    "HouseDF.head()"
   ]
  },
  {
   "cell_type": "code",
   "execution_count": 60,
   "id": "24e9b63e",
   "metadata": {},
   "outputs": [
    {
     "data": {
      "image/png": "[encoded data removed]",
      "text/plain": [
       "<Figure size 1000x700 with 1 Axes>"
      ]
     },
     "metadata": {},
     "output_type": "display_data"
    }
   ],
   "source": [
    "plt.figure(figsize=(10, 7))\n",
    "plt.title(\"Bedroom wise price increase.\")\n",
    "\n",
    "sns.barplot(x='bedrooms', y='price', data=HouseDF)\n",
    "plt.xlabel('Bedrooms', )\n",
    "plt.ylabel('Price')\n",
    "plt.show()"
   ]
  },
  {
   "cell_type": "code",
   "execution_count": 26,
   "id": "258aaff0",
   "metadata": {},
   "outputs": [
    {
     "data": {
      "image/png": "[encoded data removed]",
      "text/plain": [
       "<Figure size 1000x500 with 1 Axes>"
      ]
     },
     "metadata": {},
     "output_type": "display_data"
    }
   ],
   "source": [
    "plt.figure(figsize=(10, 5))\n",
    "\n",
    "sns.scatterplot(x='bedrooms', y='price',data=HouseDF)\n",
    "plt.title(\"Price vs Bedroom Scatter plot\")\n",
    "\n",
    "plt.xlabel(\"House Bedrooms\")\n",
    "plt.ylabel('House Price')\n",
    "plt.show()"
   ]
  },
  {
   "cell_type": "code",
   "execution_count": 27,
   "id": "161b29be",
   "metadata": {},
   "outputs": [
    {
     "data": {
      "text/plain": [
       "<Figure size 1000x700 with 0 Axes>"
      ]
     },
     "metadata": {},
     "output_type": "display_data"
    },
    {
     "data": {
      "image/png": "[encoded data removed]",
      "text/plain": [
       "<Figure size 500x500 with 1 Axes>"
      ]
     },
     "metadata": {},
     "output_type": "display_data"
    }
   ],
   "source": [
    "plt.figure(figsize=(10, 7))\n",
    "\n",
    "sns.lmplot(x=\"bedrooms\", y=\"price\", data=HouseDF);\n",
    "plt.title(\"Price and bedroom wise line plot\")\n",
    "plt.show()"
   ]
  },
  {
   "cell_type": "markdown",
   "id": "99fed887",
   "metadata": {},
   "source": [
    "# Linear Regression :"
   ]
  },
  {
   "cell_type": "code",
   "execution_count": 61,
   "id": "c86c9537",
   "metadata": {},
   "outputs": [],
   "source": [
    "from sklearn.metrics import mean_absolute_error"
   ]
  },
  {
   "cell_type": "code",
   "execution_count": 47,
   "id": "ad4050f0",
   "metadata": {},
   "outputs": [],
   "source": [
    "# Instantiate a linear regression model\n",
    "mdl = LinearRegression()"
   ]
  },
  {
   "cell_type": "code",
   "execution_count": 48,
   "id": "4f73f1d0",
   "metadata": {},
   "outputs": [],
   "source": [
    "# Define features and target\n",
    "X = HouseDF.drop(['price'], axis=1)\n",
    "y = HouseDF['price']"
   ]
  },
  {
   "cell_type": "code",
   "execution_count": 49,
   "id": "feac25a5",
   "metadata": {},
   "outputs": [
    {
     "name": "stdout",
     "output_type": "stream",
     "text": [
      "<class 'pandas.core.frame.DataFrame'>\n",
      "Int64Index: 6 entries, 0 to 5\n",
      "Data columns (total 4 columns):\n",
      " #   Column    Non-Null Count  Dtype\n",
      "---  ------    --------------  -----\n",
      " 0   area      6 non-null      int64\n",
      " 1   bedrooms  6 non-null      int64\n",
      " 2   age       6 non-null      int64\n",
      " 3   price     6 non-null      int64\n",
      "dtypes: int64(4)\n",
      "memory usage: 240.0 bytes\n"
     ]
    }
   ],
   "source": [
    "# Convert 'bedrooms' to int64\n",
    "HouseDF['bedrooms'] = HouseDF['bedrooms'].astype('int64')\n",
    "\n",
    "HouseDF.info()"
   ]
  },
  {
   "cell_type": "code",
   "execution_count": 50,
   "id": "e744a693",
   "metadata": {},
   "outputs": [],
   "source": [
    "# Split the data into training and testing sets\n",
    "X_train, X_test, y_train, y_test = train_test_split(X, y, test_size=0.2, random_state=42)\n"
   ]
  },
  {
   "cell_type": "code",
   "execution_count": 51,
   "id": "849b24ba",
   "metadata": {},
   "outputs": [
    {
     "data": {
      "text/html": [
       "<style>#sk-container-id-2 {color: black;}#sk-container-id-2 pre{padding: 0;}#sk-container-id-2 div.sk-toggleable {background-color: white;}#sk-container-id-2 label.sk-toggleable__label {cursor: pointer;display: block;width: 100%;margin-bottom: 0;padding: 0.3em;box-sizing: border-box;text-align: center;}#sk-container-id-2 label.sk-toggleable__label-arrow:before {content: \"▸\";float: left;margin-right: 0.25em;color: #696969;}#sk-container-id-2 label.sk-toggleable__label-arrow:hover:before {color: black;}#sk-container-id-2 div.sk-estimator:hover label.sk-toggleable__label-arrow:before {color: black;}#sk-container-id-2 div.sk-toggleable__content {max-height: 0;max-width: 0;overflow: hidden;text-align: left;background-color: #f0f8ff;}#sk-container-id-2 div.sk-toggleable__content pre {margin: 0.2em;color: black;border-radius: 0.25em;background-color: #f0f8ff;}#sk-container-id-2 input.sk-toggleable__control:checked~div.sk-toggleable__content {max-height: 200px;max-width: 100%;overflow: auto;}#sk-container-id-2 input.sk-toggleable__control:checked~label.sk-toggleable__label-arrow:before {content: \"▾\";}#sk-container-id-2 div.sk-estimator input.sk-toggleable__control:checked~label.sk-toggleable__label {background-color: #d4ebff;}#sk-container-id-2 div.sk-label input.sk-toggleable__control:checked~label.sk-toggleable__label {background-color: #d4ebff;}#sk-container-id-2 input.sk-hidden--visually {border: 0;clip: rect(1px 1px 1px 1px);clip: rect(1px, 1px, 1px, 1px);height: 1px;margin: -1px;overflow: hidden;padding: 0;position: absolute;width: 1px;}#sk-container-id-2 div.sk-estimator {font-family: monospace;background-color: #f0f8ff;border: 1px dotted black;border-radius: 0.25em;box-sizing: border-box;margin-bottom: 0.5em;}#sk-container-id-2 div.sk-estimator:hover {background-color: #d4ebff;}#sk-container-id-2 div.sk-parallel-item::after {content: \"\";width: 100%;border-bottom: 1px solid gray;flex-grow: 1;}#sk-container-id-2 div.sk-label:hover label.sk-toggleable__label {background-color: #d4ebff;}#sk-container-id-2 div.sk-serial::before {content: \"\";position: absolute;border-left: 1px solid gray;box-sizing: border-box;top: 0;bottom: 0;left: 50%;z-index: 0;}#sk-container-id-2 div.sk-serial {display: flex;flex-direction: column;align-items: center;background-color: white;padding-right: 0.2em;padding-left: 0.2em;position: relative;}#sk-container-id-2 div.sk-item {position: relative;z-index: 1;}#sk-container-id-2 div.sk-parallel {display: flex;align-items: stretch;justify-content: center;background-color: white;position: relative;}#sk-container-id-2 div.sk-item::before, #sk-container-id-2 div.sk-parallel-item::before {content: \"\";position: absolute;border-left: 1px solid gray;box-sizing: border-box;top: 0;bottom: 0;left: 50%;z-index: -1;}#sk-container-id-2 div.sk-parallel-item {display: flex;flex-direction: column;z-index: 1;position: relative;background-color: white;}#sk-container-id-2 div.sk-parallel-item:first-child::after {align-self: flex-end;width: 50%;}#sk-container-id-2 div.sk-parallel-item:last-child::after {align-self: flex-start;width: 50%;}#sk-container-id-2 div.sk-parallel-item:only-child::after {width: 0;}#sk-container-id-2 div.sk-dashed-wrapped {border: 1px dashed gray;margin: 0 0.4em 0.5em 0.4em;box-sizing: border-box;padding-bottom: 0.4em;background-color: white;}#sk-container-id-2 div.sk-label label {font-family: monospace;font-weight: bold;display: inline-block;line-height: 1.2em;}#sk-container-id-2 div.sk-label-container {text-align: center;}#sk-container-id-2 div.sk-container {/* jupyter's `normalize.less` sets `[hidden] { display: none; }` but bootstrap.min.css set `[hidden] { display: none !important; }` so we also need the `!important` here to be able to override the default hidden behavior on the sphinx rendered scikit-learn.org. See: https://github.com/scikit-learn/scikit-learn/issues/21755 */display: inline-block !important;position: relative;}#sk-container-id-2 div.sk-text-repr-fallback {display: none;}</style><div id=\"sk-container-id-2\" class=\"sk-top-container\"><div class=\"sk-text-repr-fallback\"><pre>LinearRegression()</pre><b>In a Jupyter environment, please rerun this cell to show the HTML representation or trust the notebook. <br />On GitHub, the HTML representation is unable to render, please try loading this page with nbviewer.org.</b></div><div class=\"sk-container\" hidden><div class=\"sk-item\"><div class=\"sk-estimator sk-toggleable\"><input class=\"sk-toggleable__control sk-hidden--visually\" id=\"sk-estimator-id-2\" type=\"checkbox\" checked><label for=\"sk-estimator-id-2\" class=\"sk-toggleable__label sk-toggleable__label-arrow\">LinearRegression</label><div class=\"sk-toggleable__content\"><pre>LinearRegression()</pre></div></div></div></div></div>"
      ],
      "text/plain": [
       "LinearRegression()"
      ]
     },
     "execution_count": 51,
     "metadata": {},
     "output_type": "execute_result"
    }
   ],
   "source": [
    "# Fit the model to the training data\n",
    "mdl.fit(X_train, y_train)"
   ]
  },
  {
   "cell_type": "code",
   "execution_count": 31,
   "id": "7a2407a8",
   "metadata": {
    "scrolled": true
   },
   "outputs": [
    {
     "name": "stdout",
     "output_type": "stream",
     "text": [
      "   area  bedrooms  age\n",
      "0  2600       3.0   20\n",
      "1  3000       4.0   15\n",
      "2  3200       4.2   18\n",
      "3  3600       3.0   30\n",
      "4  4000       5.0    8\n",
      "5  4100       6.0    8\n",
      "-------------------------\n",
      "0    550000\n",
      "1    565000\n",
      "2    610000\n",
      "3    595000\n",
      "4    760000\n",
      "5    810000\n",
      "Name: price, dtype: int64\n"
     ]
    }
   ],
   "source": [
    "print(X)\n",
    "print(\"-\" * 25)\n",
    "print(y)"
   ]
  },
  {
   "cell_type": "code",
   "execution_count": 32,
   "id": "8d9dcfd6",
   "metadata": {},
   "outputs": [
    {
     "data": {
      "text/html": [
       "<div>\n",
       "<style scoped>\n",
       "    .dataframe tbody tr th:only-of-type {\n",
       "        vertical-align: middle;\n",
       "    }\n",
       "\n",
       "    .dataframe tbody tr th {\n",
       "        vertical-align: top;\n",
       "    }\n",
       "\n",
       "    .dataframe thead th {\n",
       "        text-align: right;\n",
       "    }\n",
       "</style>\n",
       "<table border=\"1\" class=\"dataframe\">\n",
       "  <thead>\n",
       "    <tr style=\"text-align: right;\">\n",
       "      <th></th>\n",
       "      <th>area</th>\n",
       "      <th>bedrooms</th>\n",
       "      <th>age</th>\n",
       "      <th>price</th>\n",
       "    </tr>\n",
       "  </thead>\n",
       "  <tbody>\n",
       "    <tr>\n",
       "      <th>0</th>\n",
       "      <td>2600</td>\n",
       "      <td>3</td>\n",
       "      <td>20</td>\n",
       "      <td>550000</td>\n",
       "    </tr>\n",
       "    <tr>\n",
       "      <th>1</th>\n",
       "      <td>3000</td>\n",
       "      <td>4</td>\n",
       "      <td>15</td>\n",
       "      <td>565000</td>\n",
       "    </tr>\n",
       "    <tr>\n",
       "      <th>2</th>\n",
       "      <td>3200</td>\n",
       "      <td>4</td>\n",
       "      <td>18</td>\n",
       "      <td>610000</td>\n",
       "    </tr>\n",
       "    <tr>\n",
       "      <th>3</th>\n",
       "      <td>3600</td>\n",
       "      <td>3</td>\n",
       "      <td>30</td>\n",
       "      <td>595000</td>\n",
       "    </tr>\n",
       "    <tr>\n",
       "      <th>4</th>\n",
       "      <td>4000</td>\n",
       "      <td>5</td>\n",
       "      <td>8</td>\n",
       "      <td>760000</td>\n",
       "    </tr>\n",
       "    <tr>\n",
       "      <th>5</th>\n",
       "      <td>4100</td>\n",
       "      <td>6</td>\n",
       "      <td>8</td>\n",
       "      <td>810000</td>\n",
       "    </tr>\n",
       "  </tbody>\n",
       "</table>\n",
       "</div>"
      ],
      "text/plain": [
       "   area  bedrooms  age   price\n",
       "0  2600         3   20  550000\n",
       "1  3000         4   15  565000\n",
       "2  3200         4   18  610000\n",
       "3  3600         3   30  595000\n",
       "4  4000         5    8  760000\n",
       "5  4100         6    8  810000"
      ]
     },
     "execution_count": 32,
     "metadata": {},
     "output_type": "execute_result"
    }
   ],
   "source": [
    "HouseDF.fillna(HouseDF.mean())"
   ]
  },
  {
   "cell_type": "code",
   "execution_count": 62,
   "id": "4f46d466",
   "metadata": {},
   "outputs": [],
   "source": [
    "#Evaluation :"
   ]
  },
  {
   "cell_type": "code",
   "execution_count": 34,
   "id": "60614b26",
   "metadata": {},
   "outputs": [
    {
     "data": {
      "text/plain": [
       "array([551989.04870256])"
      ]
     },
     "execution_count": 34,
     "metadata": {},
     "output_type": "execute_result"
    }
   ],
   "source": [
    "mdl.predict([[ 4000, 2, 50 ]])"
   ]
  },
  {
   "cell_type": "code",
   "execution_count": 52,
   "id": "1dc53794",
   "metadata": {},
   "outputs": [
    {
     "name": "stdout",
     "output_type": "stream",
     "text": [
      "Training R^2 score: 1.0\n"
     ]
    }
   ],
   "source": [
    "train_score = mdl.score(X_train, y_train)\n",
    "print(\"Training R^2 score:\", train_score)"
   ]
  },
  {
   "cell_type": "code",
   "execution_count": 53,
   "id": "9c12a299",
   "metadata": {},
   "outputs": [
    {
     "name": "stdout",
     "output_type": "stream",
     "text": [
      "Testing R^2 score: -29.464307814164474\n"
     ]
    }
   ],
   "source": [
    "# Calculate the coefficient of determination (R^2 score) on the testing data\n",
    "test_score = mdl.score(X_test, y_test)\n",
    "print(\"Testing R^2 score:\", test_score)"
   ]
  },
  {
   "cell_type": "code",
   "execution_count": 54,
   "id": "25f17c77",
   "metadata": {},
   "outputs": [
    {
     "name": "stdout",
     "output_type": "stream",
     "text": [
      "Mean Absolute Error: 39608.20895522431\n"
     ]
    }
   ],
   "source": [
    "# Calculate the mean absolute error\n",
    "mae = mean_absolute_error(y_test, mdl.predict(X_test))\n",
    "print(\"Mean Absolute Error:\", mae)"
   ]
  },
  {
   "cell_type": "code",
   "execution_count": 59,
   "id": "8a6326b3",
   "metadata": {},
   "outputs": [
    {
     "data": {
      "text/plain": [
       "array([  115.67164179, 38432.8358209 , -1902.98507463])"
      ]
     },
     "execution_count": 59,
     "metadata": {},
     "output_type": "execute_result"
    }
   ],
   "source": [
    "mdl.coef_"
   ]
  },
  {
   "cell_type": "code",
   "execution_count": 58,
   "id": "11321469",
   "metadata": {},
   "outputs": [
    {
     "data": {
      "text/plain": [
       "120373.13432834996"
      ]
     },
     "execution_count": 58,
     "metadata": {},
     "output_type": "execute_result"
    }
   ],
   "source": [
    "mdl.intercept_"
   ]
  },
  {
   "cell_type": "code",
   "execution_count": 57,
   "id": "6aa6978f",
   "metadata": {
    "scrolled": true
   },
   "outputs": [
    {
     "name": "stdout",
     "output_type": "stream",
     "text": [
      "94.24316691641629\n"
     ]
    }
   ],
   "source": [
    "score = mdl.score( X, y )\n",
    "print(score * 100)"
   ]
  },
  {
   "cell_type": "code",
   "execution_count": 56,
   "id": "c3333055",
   "metadata": {
    "scrolled": true
   },
   "outputs": [
    {
     "name": "stdout",
     "output_type": "stream",
     "text": [
      "R^2 score: 0.9424316691641629\n",
      "Mean Absolute Error: 13202.73631840857\n"
     ]
    }
   ],
   "source": [
    "# Assuming mdl is your fitted model\n",
    "y_pred = mdl.predict(X)\n",
    "\n",
    "# Calculate R^2 score\n",
    "score = r2_score(y, y_pred)\n",
    "\n",
    "# Calculate mean absolute error\n",
    "mae = mean_absolute_error(y, y_pred)\n",
    "\n",
    "print(\"R^2 score:\", score)\n",
    "print(\"Mean Absolute Error:\", mae)"
   ]
  }
 ],
 "metadata": {
  "kernelspec": {
   "display_name": "Python 3 (ipykernel)",
   "language": "python",
   "name": "python3"
  },
  "language_info": {
   "codemirror_mode": {
    "name": "ipython",
    "version": 3
   },
   "file_extension": ".py",
   "mimetype": "text/x-python",
   "name": "python",
   "nbconvert_exporter": "python",
   "pygments_lexer": "ipython3",
   "version": "3.11.4"
  }
 },
 "nbformat": 4,
 "nbformat_minor": 5
}
